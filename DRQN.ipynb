{
 "cells": [
  {
   "cell_type": "code",
   "execution_count": null,
   "metadata": {},
   "outputs": [],
   "source": [
    "%load_ext autoreload\n",
    "%autoreload 2"
   ]
  },
  {
   "cell_type": "code",
   "execution_count": null,
   "metadata": {},
   "outputs": [],
   "source": [
    "from RobotEnv import RobotEnv\n",
    "import random\n",
    "env = RobotEnv(screen_width=400, screen_height=400)\n",
    "# size of obs\n",
    "observation_length = env.observation_space.shape[0]\n",
    "action_length = env.action_space.n"
   ]
  },
  {
   "cell_type": "markdown",
   "metadata": {},
   "source": [
    "# 定义模型"
   ]
  },
  {
   "cell_type": "code",
   "execution_count": null,
   "metadata": {},
   "outputs": [],
   "source": [
    "import torch\n",
    "\n",
    "\n",
    "class SelectOutput(torch.nn.Module):\n",
    "    def forward(self, inputs):\n",
    "        outputs, (hidden, cell) = inputs\n",
    "        return outputs\n",
    "\n",
    "\n",
    "model = torch.nn.Sequential(\n",
    "    torch.nn.Linear(observation_length, 64),\n",
    "    torch.nn.ReLU(),\n",
    "    torch.nn.LSTM(64, 64, batch_first=True),\n",
    "    SelectOutput(),  # 添加自定义层\n",
    "    torch.nn.ReLU(),\n",
    "    torch.nn.Linear(64, action_length),\n",
    ")\n",
    "model_delay = torch.nn.Sequential(\n",
    "    torch.nn.Linear(observation_length, 64),\n",
    "    torch.nn.ReLU(),\n",
    "    torch.nn.LSTM(64, 64, batch_first=True),\n",
    "    SelectOutput(),  # 添加自定义层\n",
    "    torch.nn.ReLU(),\n",
    "    torch.nn.Linear(64, action_length),\n",
    ")\n",
    "# 复制参数\n",
    "model_delay.load_state_dict(model.state_dict())"
   ]
  },
  {
   "cell_type": "markdown",
   "metadata": {},
   "source": [
    "# 单局游戏"
   ]
  },
  {
   "cell_type": "code",
   "execution_count": null,
   "metadata": {},
   "outputs": [],
   "source": [
    "# 定义优化器\n",
    "from utils import Controller,Pool\n",
    "controller = Controller(model, env)\n",
    "pool = Pool(controller)\n",
    "# pool.update()\n",
    "# pool.sample()"
   ]
  },
  {
   "cell_type": "markdown",
   "metadata": {},
   "source": [
    "# 训练"
   ]
  },
  {
   "cell_type": "code",
   "execution_count": null,
   "metadata": {},
   "outputs": [],
   "source": [
    "from torch.utils.tensorboard import SummaryWriter\n",
    "import os\n",
    "import json\n",
    "import numpy as np\n",
    "# 训练\n",
    "def train():\n",
    "\n",
    "    model.train()\n",
    "    optimizer = torch.optim.Adam(model.parameters(), lr=2e-4)\n",
    "    loss_fn = torch.nn.MSELoss()\n",
    "    # 共训练n_step次\n",
    "    n_step = 0\n",
    "    log_interval = 100_000\n",
    "    last_log_step = 0\n",
    "    writer = SummaryWriter(\"./logs/DRQN_logs\")\n",
    "    # 如果checkpoint存在，则加载checkpoint\n",
    "    if os.path.exists(\"checkpoint/DRQN.pth\"):\n",
    "        model.load_state_dict(torch.load(\"checkpoint/DRQN.pth\"))\n",
    "        model_delay.load_state_dict(torch.load(\"checkpoint/DRQN.pth\"))\n",
    "    if os.path.exists(\"checkpoint/DRQN_logs.json\"):\n",
    "        with open('checkpoint/DRQN_logs.json', 'r') as f:\n",
    "            log_data = np.array(json.load(f))\n",
    "            n_step = log_data[:, 1][-1]\n",
    "            last_log_step = n_step\n",
    "            for row in log_data:\n",
    "                writer.add_scalar('Step', row[1], global_step=row[1])\n",
    "                writer.add_scalar('Test Result', row[2], global_step=row[1])\n",
    "    while n_step < 100_000_000:\n",
    "        n_step += pool.update()\n",
    "        # print(f\"n_step:{n_step}\")\n",
    "        # 每次更新数据后,训练N次\n",
    "        for i in range(200):\n",
    "            # print(f\"i:{i}\")\n",
    "            # 采样N条数据\n",
    "            state, action, reward, next_state, terminated = pool.sample()\n",
    "\n",
    "            # 计算value\n",
    "            value = model(state).gather(dim=1, index=action)\n",
    "\n",
    "            # 计算target\n",
    "            with torch.no_grad():\n",
    "                # 使用原模型计算动作,使用延迟模型计算target,进一步缓解自举\n",
    "                next_action = model(next_state).argmax(dim=1, keepdim=True)\n",
    "                target = model_delay(next_state).gather(dim=1,\n",
    "                                                        index=next_action)\n",
    "            target = target * 0.99 * (1 - terminated) + reward\n",
    "\n",
    "            loss = loss_fn(value, target)\n",
    "            loss.backward()\n",
    "            optimizer.step()\n",
    "            optimizer.zero_grad()\n",
    "        # 复制参数\n",
    "        if (n_step - last_log_step) >= log_interval:\n",
    "            model_delay.load_state_dict(model.state_dict())\n",
    "            test_result = sum([pool.controller.play(mode=\"test\")[-1]\n",
    "                              for _ in range(20)]) / 20\n",
    "            print(f\"step:{n_step},test_result:{test_result}\")\n",
    "\n",
    "            last_log_step = n_step\n",
    "            # 将步数，测试结果和损失写入TensorBoard\n",
    "            writer.add_scalar('Step', n_step, global_step=n_step)\n",
    "            writer.add_scalar('Test Result', test_result, global_step=n_step)\n",
    "            writer.add_scalar('Loss', loss.item(), global_step=n_step)\n",
    "    writer.close()  # 训练结束后关闭writer\n",
    "train()"
   ]
  },
  {
   "cell_type": "code",
   "execution_count": null,
   "metadata": {},
   "outputs": [],
   "source": [
    "# # 保存模型参数\n",
    "# torch.save({\n",
    "#     'model_state_dict': model.state_dict(),\n",
    "#     # 'optimizer_state_dict': optimizer.state_dict(),\n",
    "#     'n_step': n_step,\n",
    "# }, 'DRQN.pth')"
   ]
  }
 ],
 "metadata": {
  "kernelspec": {
   "display_name": "RL",
   "language": "python",
   "name": "python3"
  },
  "language_info": {
   "codemirror_mode": {
    "name": "ipython",
    "version": 3
   },
   "file_extension": ".py",
   "mimetype": "text/x-python",
   "name": "python",
   "nbconvert_exporter": "python",
   "pygments_lexer": "ipython3",
   "version": "3.11.8"
  }
 },
 "nbformat": 4,
 "nbformat_minor": 2
}

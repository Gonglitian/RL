{
 "cells": [
  {
   "cell_type": "markdown",
   "metadata": {},
   "source": [
    "### Test"
   ]
  },
  {
   "cell_type": "code",
   "execution_count": null,
   "metadata": {},
   "outputs": [],
   "source": [
    "%load_ext autoreload\n",
    "%autoreload 2"
   ]
  },
  {
   "cell_type": "code",
   "execution_count": null,
   "metadata": {},
   "outputs": [],
   "source": [
    "from MyCar import MyCar\n",
    "env = MyCar()\n",
    "env.reset()\n",
    "state, reward, terminated, truncated, info = env.step(\n",
    "    env.action_space.sample())\n",
    "log = 0\n",
    "while not terminated:\n",
    "    env.render()\n",
    "    state, reward, terminated, truncated, info = env.step(\n",
    "        env.action_space.sample())\n",
    "    if truncated:\n",
    "        env.reset()\n",
    "    log += 1\n",
    "    "
   ]
  },
  {
   "cell_type": "markdown",
   "metadata": {},
   "source": [
    "### Train"
   ]
  },
  {
   "cell_type": "code",
   "execution_count": null,
   "metadata": {},
   "outputs": [],
   "source": [
    "from stable_baselines3 import DQN\n",
    "from stable_baselines3.common import logger\n",
    "# Train the agent by the stable_baselines3\n",
    "import os\n",
    "models_dir = './models/DQN1/'\n",
    "logdir = './logs'\n",
    "if not os.path.exists(models_dir):\n",
    "    os.makedirs(models_dir)\n",
    "\n",
    "if not os.path.exists(logdir):\n",
    "    os.makedirs(logdir)\n",
    "\n",
    "env = MyCar()\n",
    "agent = DQN('MlpPolicy', env, verbose=1, tensorboard_log=logdir)\n",
    "agent.learn(total_timesteps=100000, log_interval=100, tb_log_name='DQN')\n",
    "agent.save(models_dir)"
   ]
  },
  {
   "cell_type": "code",
   "execution_count": 24,
   "metadata": {},
   "outputs": [],
   "source": [
    "models_dir = './models/DQN/DQN1'\n",
    "agent.save(models_dir)"
   ]
  },
  {
   "cell_type": "markdown",
   "metadata": {},
   "source": [
    "### Test"
   ]
  },
  {
   "cell_type": "code",
   "execution_count": null,
   "metadata": {},
   "outputs": [],
   "source": [
    "state,info= env.reset()\n",
    "agent = DQN.load('models\\DQN\\DQN.zip', env=env)\n",
    "terminated = False\n",
    "while not terminated:\n",
    "    action, _state = agent.predict(state)\n",
    "    state, rew, terminated, truncated, info = env.step(action)\n",
    "    env.render()"
   ]
  }
 ],
 "metadata": {
  "kernelspec": {
   "display_name": "RL",
   "language": "python",
   "name": "python3"
  },
  "language_info": {
   "codemirror_mode": {
    "name": "ipython",
    "version": 3
   },
   "file_extension": ".py",
   "mimetype": "text/x-python",
   "name": "python",
   "nbconvert_exporter": "python",
   "pygments_lexer": "ipython3",
   "version": "3.11.8"
  }
 },
 "nbformat": 4,
 "nbformat_minor": 2
}

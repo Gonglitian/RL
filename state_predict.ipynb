{
 "cells": [
  {
   "cell_type": "code",
   "execution_count": null,
   "metadata": {},
   "outputs": [],
   "source": [
    "%load_ext autoreload\n",
    "%autoreload 2"
   ]
  },
  {
   "cell_type": "code",
   "execution_count": null,
   "metadata": {},
   "outputs": [],
   "source": [
    "from utils import *\n",
    "from RobotEnv import RobotEnv\n",
    "import numpy as np\n",
    "\n",
    "t_model = torch.nn.Sequential(\n",
    "    torch.nn.Linear(8, 64),\n",
    "    torch.nn.ReLU(),\n",
    "    torch.nn.Linear(64, 64),\n",
    "    torch.nn.ReLU(),\n",
    "    torch.nn.Linear(64, 4),\n",
    ")\n",
    "env = RobotEnv(400, 400)\n",
    "# 玩一局游戏获取轨迹\n",
    "controller = Controller(t_model, env)\n",
    "t_list = []\n",
    "s, _ = env.reset()\n",
    "\n",
    "\n",
    "def get_trajectory(model, env):\n",
    "    t = []\n",
    "    terminated = False\n",
    "    truncated = False\n",
    "    while not (terminated or truncated):\n",
    "        a = model(torch.FloatTensor(s).reshape(1, 8)).argmax().item()\n",
    "        if random.random() < 0.1:\n",
    "            a = env.action_space.sample()\n",
    "        ns, r, terminated, truncated, _ = env.step(a)\n",
    "        t.append(ns)\n",
    "    env.reset()\n",
    "    return np.array(t)"
   ]
  },
  {
   "cell_type": "code",
   "execution_count": null,
   "metadata": {},
   "outputs": [],
   "source": [
    "# 获取多条轨迹，存储至t_list\n",
    "for i in range(200):\n",
    "    t = get_trajectory(t_model, env)\n",
    "    t_list.append(t)\n",
    "len(t_list)"
   ]
  },
  {
   "cell_type": "code",
   "execution_count": null,
   "metadata": {},
   "outputs": [],
   "source": [
    "# t_list = t_list[:10]"
   ]
  },
  {
   "cell_type": "code",
   "execution_count": null,
   "metadata": {},
   "outputs": [],
   "source": [
    "import torch\n",
    "from torch import nn\n",
    "from torch.optim import Adam\n",
    "from torch.nn import MSELoss\n",
    "from torch.utils.data import DataLoader\n",
    "\n",
    "# 假设每个状态的大小为8\n",
    "state_size = 8\n",
    "hidden_size = 128\n",
    "\n",
    "# 创建模型、优化器和损失函数\n",
    "model = GRUModel(state_size, hidden_size, state_size)\n",
    "optimizer = Adam(model.parameters(), lr=0.001)\n",
    "loss_fn = MSELoss()\n",
    "\n",
    "# 测试GRU输出\n",
    "# x = torch.randn(1, 1, state_size)\n",
    "# model(x).shape"
   ]
  },
  {
   "cell_type": "code",
   "execution_count": null,
   "metadata": {},
   "outputs": [],
   "source": [
    "from torch.utils.tensorboard import SummaryWriter\n",
    "\n",
    "# 训练模型\n",
    "writer = SummaryWriter(\"./logs/state_prediction\")\n",
    "\n",
    "\n",
    "def test():\n",
    "    loss_sum = 0\n",
    "    for trajectory in t_list:\n",
    "        trajectory = torch.tensor(trajectory, dtype=torch.float32)\n",
    "        m = len(trajectory)\n",
    "        t_loss = 0\n",
    "        for j, state in enumerate(trajectory):\n",
    "            if j == m - 1:\n",
    "                break\n",
    "            s = torch.FloatTensor(state).reshape(1, 1, 8)\n",
    "            next_s = torch.FloatTensor(trajectory[j + 1]).reshape(1, 8)\n",
    "            with torch.no_grad():\n",
    "                predict_state = model(s)\n",
    "            t_loss += loss_fn(predict_state, next_s)\n",
    "        avg_loss_t = t_loss.item() / m\n",
    "        loss_sum += avg_loss_t\n",
    "    return loss_sum / len(t_list)\n",
    "\n",
    "\n",
    "def train():\n",
    "    for epoch in range(30):  # 进行100个训练周期\n",
    "        for i, trajectory in enumerate(t_list):\n",
    "            # 将轨迹转换为Tensor\n",
    "            trajectory = torch.tensor(trajectory, dtype=torch.float32)\n",
    "            # 获取输入和目标\n",
    "            m = len(trajectory)\n",
    "            t_loss = 0\n",
    "            repeat = 10\n",
    "            for n in range(repeat):\n",
    "                for j, state in enumerate(trajectory):\n",
    "                    if j == m - 1:\n",
    "                        break\n",
    "                    s = torch.FloatTensor(state).reshape(1, 1, 8)\n",
    "                    next_s = torch.FloatTensor(trajectory[j + 1]).reshape(1, 8)\n",
    "                    predict_state = model(s)\n",
    "                    # 计算损失\n",
    "                    loss = loss_fn(predict_state, next_s)\n",
    "                    # 反向传播和优化\n",
    "                    with torch.no_grad():\n",
    "                        t_loss += loss.item()\n",
    "                    optimizer.zero_grad()\n",
    "                    loss.backward()\n",
    "                    optimizer.step()\n",
    "                # reset_model(model)\n",
    "            avg_loss = t_loss / (m * repeat)\n",
    "            print(f\"Epoch {epoch+1}, Trajectory {i+1}, Loss: {avg_loss}\")\n",
    "        # 每个epoch测试一次，记录所有轨迹预测的平均loss\n",
    "        epoch_loss = test()\n",
    "        writer.add_scalar(\"Loss\", epoch_loss, global_step=epoch + 1)\n",
    "        print(f\"Test Epoch {epoch+1}, Loss: {epoch_loss}\")\n",
    "\n",
    "\n",
    "train()"
   ]
  },
  {
   "cell_type": "code",
   "execution_count": null,
   "metadata": {},
   "outputs": [],
   "source": [
    "# save\n",
    "torch.save(model.state_dict(), \"model.pth\")"
   ]
  }
 ],
 "metadata": {
  "kernelspec": {
   "display_name": "RL",
   "language": "python",
   "name": "python3"
  },
  "language_info": {
   "codemirror_mode": {
    "name": "ipython",
    "version": 3
   },
   "file_extension": ".py",
   "mimetype": "text/x-python",
   "name": "python",
   "nbconvert_exporter": "python",
   "pygments_lexer": "ipython3",
   "version": "3.11.8"
  }
 },
 "nbformat": 4,
 "nbformat_minor": 2
}
